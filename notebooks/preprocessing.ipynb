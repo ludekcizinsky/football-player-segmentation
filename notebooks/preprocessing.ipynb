{
 "cells": [
  {
   "cell_type": "markdown",
   "metadata": {},
   "source": [
    "### Imports"
   ]
  },
  {
   "cell_type": "code",
   "execution_count": 1,
   "metadata": {},
   "outputs": [],
   "source": [
    "import cv2\n",
    "import numpy as np\n",
    "from matplotlib import pyplot as plt\n",
    "from tqdm import tqdm\n",
    "\n",
    "import json\n",
    "import sys\n",
    "sys.path.insert(0, \"..\")\n",
    "\n",
    "from scripts import utils"
   ]
  },
  {
   "cell_type": "markdown",
   "metadata": {},
   "source": [
    "### Load Data"
   ]
  },
  {
   "cell_type": "code",
   "execution_count": 3,
   "metadata": {},
   "outputs": [],
   "source": [
    "with open(\"../data/annotations/instances_default.json\", \"r\") as f:\n",
    "    data = json.load(f)\n",
    "\n",
    "id2filename = {record[\"id\"]: record[\"file_name\"] for record in data[\"images\"]}"
   ]
  },
  {
   "cell_type": "markdown",
   "metadata": {},
   "source": [
    "### Preprocessing\n",
    "\n",
    "#### Segment and save the binary mask\n",
    "Here, the goal is to simply segment each image and save the binary mask. This will be used to train the model."
   ]
  },
  {
   "cell_type": "code",
   "execution_count": 4,
   "metadata": {},
   "outputs": [
    {
     "name": "stderr",
     "output_type": "stream",
     "text": [
      "  0%|          | 0/512 [00:00<?, ?it/s]"
     ]
    },
    {
     "name": "stderr",
     "output_type": "stream",
     "text": [
      "100%|██████████| 512/512 [00:12<00:00, 40.90it/s]\n"
     ]
    }
   ],
   "source": [
    "annotations = data[\"annotations\"]\n",
    "folder_path = \"../data/masks\"\n",
    "for img_id, filename in tqdm(id2filename.items()):\n",
    "    \n",
    "    # Load the image\n",
    "    img = cv2.imread(f\"../data/images/{filename}\")\n",
    "\n",
    "    # Load the annotations\n",
    "    img_annotations = utils.get_image_annotations(annotations, img_id)\n",
    "\n",
    "    # Get the segmentation points\n",
    "    pts = [np.array(img_annotations[i][\"segmentation\"]).reshape(-1, 1, 2).astype(np.int32) for i in range(len(img_annotations))]\n",
    "\n",
    "    # Draw the segmentation points\n",
    "    # cv2.polylines(img, pts, isClosed=True, color=(0, 255, 0), thickness=3)\n",
    "\n",
    "    # Convert to a binary mask\n",
    "    mask = np.zeros(img.shape[:2], dtype=np.uint8)\n",
    "    cv2.fillPoly(mask, pts, 255)\n",
    "\n",
    "    # Save the mask\n",
    "    cv2.imwrite(f\"{folder_path}/{filename}\", mask)"
   ]
  },
  {
   "cell_type": "code",
   "execution_count": null,
   "metadata": {},
   "outputs": [],
   "source": []
  }
 ],
 "metadata": {
  "kernelspec": {
   "display_name": "player-segmentation",
   "language": "python",
   "name": "python3"
  },
  "language_info": {
   "codemirror_mode": {
    "name": "ipython",
    "version": 3
   },
   "file_extension": ".py",
   "mimetype": "text/x-python",
   "name": "python",
   "nbconvert_exporter": "python",
   "pygments_lexer": "ipython3",
   "version": "3.9.0"
  }
 },
 "nbformat": 4,
 "nbformat_minor": 2
}
